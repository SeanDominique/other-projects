{
 "cells": [
  {
   "cell_type": "code",
   "execution_count": null,
   "metadata": {},
   "outputs": [],
   "source": [
    "import pandas as pd\n",
    "import glob\n",
    "import matplotlib.pyplot as plt\n",
    "import numpy as np\n",
    "from scipy import signal\n",
    "import scipy.io\n",
    "from scipy.signal import welch, freqz, butter, filtfilt\n",
    "import seaborn as sns"
   ]
  },
  {
   "cell_type": "code",
   "execution_count": null,
   "metadata": {},
   "outputs": [],
   "source": [
    "from google.colab import drive\n",
    "drive.mount('/content/drive')"
   ]
  },
  {
   "attachments": {},
   "cell_type": "markdown",
   "metadata": {},
   "source": [
    "# Importing Data\n",
    "\n",
    "Note: Importing only data sets 1 and 3 because 2,4,5,6 are poor data quality"
   ]
  },
  {
   "cell_type": "code",
   "execution_count": null,
   "metadata": {},
   "outputs": [],
   "source": [
    "#Import data - event positions\n",
    "evpos1_1 = pd.read_csv('/content/drive/My Drive/Data/s1_s1/sub1_s1_evpos.csv', header=None, engine='python')\n",
    "evpos1_2 = pd.read_csv('/content/drive/My Drive/Data/s1_s2/sub1_s2_evpos.csv', header=None, engine='python')\n",
    "evpos3_1 = pd.read_csv('/content/drive/My Drive/Data/s3_s1/sub3_s1_evpos.csv', header=None, engine='python')\n",
    "evpos3_2 = pd.read_csv('/content/drive/My Drive/Data/s3_s2/sub3_s2_evpos.csv', header=None, engine='python')\n",
    "evpos1_1 = np.squeeze(evpos1_1.values.tolist())\n",
    "evpos1_2 = np.squeeze(evpos1_2.values.tolist())\n",
    "evpos3_1 = np.squeeze(evpos3_1.values.tolist())\n",
    "evpos3_2 = np.squeeze(evpos3_2.values.tolist())"
   ]
  },
  {
   "cell_type": "code",
   "execution_count": 2,
   "metadata": {},
   "outputs": [
    {
     "ename": "NameError",
     "evalue": "name 'evpos1_1' is not defined",
     "output_type": "error",
     "traceback": [
      "\u001b[0;31m---------------------------------------------------------------------------\u001b[0m",
      "\u001b[0;31mNameError\u001b[0m                                 Traceback (most recent call last)",
      "\u001b[1;32m/Users/seandominique/Desktop/GitHub/EEG_signal_processing.ipynb Cell 5\u001b[0m in \u001b[0;36m<cell line: 1>\u001b[0;34m()\u001b[0m\n\u001b[0;32m----> <a href='vscode-notebook-cell:/Users/seandominique/Desktop/GitHub/EEG_signal_processing.ipynb#W3sZmlsZQ%3D%3D?line=0'>1</a>\u001b[0m biggest \u001b[39m=\u001b[39m \u001b[39mmax\u001b[39m(  evpos1_1\u001b[39m.\u001b[39mshape[\u001b[39m1\u001b[39m],\n\u001b[1;32m      <a href='vscode-notebook-cell:/Users/seandominique/Desktop/GitHub/EEG_signal_processing.ipynb#W3sZmlsZQ%3D%3D?line=1'>2</a>\u001b[0m                 evpos1_2\u001b[39m.\u001b[39mshape[\u001b[39m1\u001b[39m],\n\u001b[1;32m      <a href='vscode-notebook-cell:/Users/seandominique/Desktop/GitHub/EEG_signal_processing.ipynb#W3sZmlsZQ%3D%3D?line=2'>3</a>\u001b[0m                 evpos3_1\u001b[39m.\u001b[39mshape[\u001b[39m1\u001b[39m],\n\u001b[1;32m      <a href='vscode-notebook-cell:/Users/seandominique/Desktop/GitHub/EEG_signal_processing.ipynb#W3sZmlsZQ%3D%3D?line=3'>4</a>\u001b[0m                 evpos3_2\u001b[39m.\u001b[39mshape[\u001b[39m1\u001b[39m],)\n",
      "\u001b[0;31mNameError\u001b[0m: name 'evpos1_1' is not defined"
     ]
    }
   ],
   "source": [
    "# Make all arrays the same size\n",
    "biggest = max(  evpos1_1.shape[1],\n",
    "                evpos1_2.shape[1],\n",
    "                evpos3_1.shape[1],\n",
    "                evpos3_2.shape[1],)\n",
    "\n",
    "evpos1_1 = np.append(evpos1_1, np.zeros((10, biggest - evpos1_1.shape[1])), axis=1)\n",
    "evpos1_2 = np.append(evpos1_2, np.zeros((10, biggest - evpos1_2.shape[1])), axis=1)\n",
    "evpos3_1 = np.append(evpos3_1, np.zeros((10, biggest - evpos3_1.shape[1])), axis=1)\n",
    "evpos3_2 = np.append(evpos3_2, np.zeros((10, biggest - evpos3_2.shape[1])), axis=1)"
   ]
  },
  {
   "cell_type": "code",
   "execution_count": 1,
   "metadata": {},
   "outputs": [
    {
     "ename": "NameError",
     "evalue": "name 'np' is not defined",
     "output_type": "error",
     "traceback": [
      "\u001b[0;31m---------------------------------------------------------------------------\u001b[0m",
      "\u001b[0;31mNameError\u001b[0m                                 Traceback (most recent call last)",
      "\u001b[1;32m/Users/seandominique/Desktop/GitHub/EEG_signal_processing.ipynb Cell 6\u001b[0m in \u001b[0;36m<cell line: 1>\u001b[0;34m()\u001b[0m\n\u001b[0;32m----> <a href='vscode-notebook-cell:/Users/seandominique/Desktop/GitHub/EEG_signal_processing.ipynb#W5sZmlsZQ%3D%3D?line=0'>1</a>\u001b[0m evpos \u001b[39m=\u001b[39m np\u001b[39m.\u001b[39mconcatenate((evpos1_1,\n\u001b[1;32m      <a href='vscode-notebook-cell:/Users/seandominique/Desktop/GitHub/EEG_signal_processing.ipynb#W5sZmlsZQ%3D%3D?line=1'>2</a>\u001b[0m                         evpos1_2,\n\u001b[1;32m      <a href='vscode-notebook-cell:/Users/seandominique/Desktop/GitHub/EEG_signal_processing.ipynb#W5sZmlsZQ%3D%3D?line=2'>3</a>\u001b[0m                         evpos3_1,\n\u001b[1;32m      <a href='vscode-notebook-cell:/Users/seandominique/Desktop/GitHub/EEG_signal_processing.ipynb#W5sZmlsZQ%3D%3D?line=3'>4</a>\u001b[0m                         evpos3_2), axis\u001b[39m=\u001b[39m\u001b[39m0\u001b[39m)\n",
      "\u001b[0;31mNameError\u001b[0m: name 'np' is not defined"
     ]
    }
   ],
   "source": [
    "evpos = np.concatenate((evpos1_1,\n",
    "                        evpos1_2,\n",
    "                        evpos3_1,\n",
    "                        evpos3_2), axis=0)"
   ]
  },
  {
   "cell_type": "code",
   "execution_count": null,
   "metadata": {},
   "outputs": [],
   "source": [
    "# Import data - event type\n",
    "evtype1_1 = pd.read_csv('/content/drive/My Drive/Data/s1_s1/sub1_s1_evtype.csv', header=None, engine='python')\n",
    "evtype1_2 = pd.read_csv('/content/drive/My Drive/Data/s1_s2/sub1_s2_evtype.csv', header=None, engine='python')\n",
    "evtype3_1 = pd.read_csv('/content/drive/My Drive/Data/s3_s1/sub3_s1_evtype.csv', header=None, engine='python')\n",
    "evtype3_2 = pd.read_csv('/content/drive/My Drive/Data/s3_s2/sub3_s2_evtype.csv', header=None, engine='python')\n",
    "evtype1_1 = np.squeeze(evtype1_1.values.tolist())\n",
    "evtype1_2 = np.squeeze(evtype1_2.values.tolist())\n",
    "evtype3_1 = np.squeeze(evtype3_1.values.tolist())\n",
    "evtype3_2 = np.squeeze(evtype3_2.values.tolist())"
   ]
  },
  {
   "cell_type": "code",
   "execution_count": null,
   "metadata": {},
   "outputs": [],
   "source": [
    "# Make all data arrays the same size\n",
    "biggest = max(  evtype1_1.shape[1],\n",
    "                evtype1_2.shape[1],\n",
    "                evtype3_1.shape[1],\n",
    "                evtype3_2.shape[1])\n",
    "evtype1_1 = np.append(evtype1_1, np.zeros((10, biggest - evtype1_1.shape[1])), axis=1)\n",
    "evtype1_2 = np.append(evtype1_2, np.zeros((10, biggest - evtype1_2.shape[1])), axis=1)\n",
    "evtype3_1 = np.append(evtype3_1, np.zeros((10, biggest - evtype3_1.shape[1])), axis=1)\n",
    "evtype3_2 = np.append(evtype3_2, np.zeros((10, biggest - evtype3_2.shape[1])), axis=1)"
   ]
  },
  {
   "cell_type": "code",
   "execution_count": null,
   "metadata": {},
   "outputs": [],
   "source": [
    "evtype = np.concatenate((   evtype1_1,\n",
    "                            evtype1_2,\n",
    "                            evtype3_1,\n",
    "                            evtype3_2), axis=0)"
   ]
  },
  {
   "cell_type": "code",
   "execution_count": null,
   "metadata": {},
   "outputs": [],
   "source": [
    "# Import EEG data\n",
    "data1_1 = pd.read_csv('/content/drive/My Drive/Data/s1_s1/sub1_s1_FCz_data.csv', header=None, engine='python')\n",
    "data1_2 = pd.read_csv('/content/drive/My Drive/Data/s1_s2/sub1_s2_FCz_data.csv', header=None, engine='python')\n",
    "data3_1 = pd.read_csv('/content/drive/My Drive/Data/s3_s1/sub3_s1_FCz_data.csv', header=None, engine='python')\n",
    "data3_2 = pd.read_csv('/content/drive/My Drive/Data/s3_s2/sub3_s2_FCz_data.csv', header=None, engine='python')\n",
    "data1_1 = np.squeeze(data1_1.values.tolist())\n",
    "data1_2 = np.squeeze(data1_2.values.tolist())\n",
    "data3_1 = np.squeeze(data3_1.values.tolist())\n",
    "data3_2 = np.squeeze(data3_2.values.tolist())"
   ]
  },
  {
   "cell_type": "code",
   "execution_count": null,
   "metadata": {},
   "outputs": [],
   "source": [
    "# Make all data arrays the same size\n",
    "biggest = max(  data1_1.shape[1],\n",
    "                data1_2.shape[1],\n",
    "                data3_1.shape[1],\n",
    "                data3_2.shape[1])\n",
    "data1_1 = np.append(data1_1, np.zeros((10, biggest - data1_1.shape[1])), axis=1)\n",
    "data1_2 = np.append(data1_2, np.zeros((10, biggest - data1_2.shape[1])), axis=1)\n",
    "data3_1 = np.append(data3_1, np.zeros((10, biggest - data3_1.shape[1])), axis=1)\n",
    "data3_2 = np.append(data3_2, np.zeros((10, biggest - data3_2.shape[1])), axis=1)"
   ]
  },
  {
   "cell_type": "code",
   "execution_count": null,
   "metadata": {},
   "outputs": [],
   "source": [
    "data = np.concatenate(( data1_1,\n",
    "                        data1_2,\n",
    "                        data3_1,\n",
    "                        data3_2), axis=0)"
   ]
  },
  {
   "cell_type": "code",
   "execution_count": null,
   "metadata": {},
   "outputs": [],
   "source": [
    "# Normalise data\n",
    "norm_data = np.zeros(data.shape)\n",
    "end = np.zeros(data.shape[0]).astype(int)\n",
    "for i in range(data.shape[0]):\n",
    "    for j in range(data.shape[1]):\n",
    "        if data[i,j] == 0:\n",
    "            end[i] = j\n",
    "            break\n",
    "        else:\n",
    "            end[i] = data.shape[1]\n",
    "    normalise = np.mean(data[i,0:end[i]])\n",
    "    norm_data[i,0:end[i]] = data[i,0:end[i]] - normalise"
   ]
  },
  {
   "attachments": {},
   "cell_type": "markdown",
   "metadata": {},
   "source": [
    "# Filtering"
   ]
  },
  {
   "cell_type": "code",
   "execution_count": null,
   "metadata": {},
   "outputs": [],
   "source": [
    "fs = 512\n",
    "\n",
    "def butter_bandpass(lowcut, highcut, fs, order=2):\n",
    "    nyq = 0.5 * fs\n",
    "    low = lowcut / nyq\n",
    "    high = highcut / nyq\n",
    "    b, a = butter(order, [low, high], btype='band')\n",
    "    return b, a\n",
    "\n",
    "\n",
    "def butter_bandpass_filter(data, lowcut, highcut, fs, order=2):\n",
    "    b, a = butter_bandpass(lowcut, highcut, fs, order=order)\n",
    "    y = filtfilt(b, a, data)\n",
    "    return y\n",
    "\n",
    "\n",
    "def plot_spectrum(data, sf, window_sec, band=None, dB=False):\n",
    "    \"\"\"Plot the periodogram, Welch's and multitaper PSD.\n",
    "\n",
    "    Parameters:\n",
    "    data : 1d-array\n",
    "        Input signal in the time-domain.\n",
    "    sf : float\n",
    "        Sampling frequency of the data.\n",
    "    band : list\n",
    "        Lower and upper frequencies of the band of interest.\n",
    "    window_sec : float\n",
    "        Length of each window in seconds for Welch's PSD\n",
    "    dB : boolean\n",
    "        If True, convert the power to dB.\n",
    "    \"\"\"\n",
    "    sns.set(style=\"white\", font_scale=1.2)\n",
    "    # compute PSD\n",
    "    freqs_welch, psd_welch = welch(data, sf, nperseg=window_sec*sf)\n",
    "    sharey = False\n",
    "\n",
    "    # convert power to decibels (dB = 10 * log10(power))\n",
    "    if dB:\n",
    "        psd_welch = 10 * np.log10(psd_welch)\n",
    "        sharey = True\n",
    "    \n",
    "    return freqs_welch, psd_welch"
   ]
  },
  {
   "attachments": {},
   "cell_type": "markdown",
   "metadata": {},
   "source": [
    "Find PSD"
   ]
  },
  {
   "cell_type": "code",
   "execution_count": null,
   "metadata": {},
   "outputs": [],
   "source": [
    "# PSD range\n",
    "low = 1\n",
    "high = 10\n",
    "\n",
    "# Create arrays for freqs and PSDs\n",
    "test1, test2 = plot_spectrum(data[0,:], fs, (32), [low, high], dB=True)\n",
    "all_freqs = np.zeros([test1.size, data.shape[0]])\n",
    "all_psd = np.zeros([test2.size, data.shape[0]])\n",
    "\n",
    "for i in range(data.shape[0]):\n",
    "    all_freqs[:,i], all_psd[:,i] = plot_spectrum(data[i,:], fs, (32), [low, high], dB=True)\n",
    "\n",
    "# Find means\n",
    "mean_freqs = np.mean(all_freqs, axis=1)\n",
    "mean_psd = np.mean(all_psd, axis=1)\n",
    "\n",
    "# Identify area of interest\n",
    "idx_mu = np.logical_and(mean_freqs >= low, mean_freqs <= high)\n",
    "\n",
    "# Plot\n",
    "plt.figure(figsize=(7, 4))\n",
    "plt.plot(mean_freqs, mean_psd, lw=1, color='k')\n",
    "plt.fill_between(mean_freqs, mean_psd, where=idx_mu, color='skyblue')\n",
    "plt.xlabel('Frequency (Hz)', fontsize=20)\n",
    "plt.ylabel('Decibels (dB / Hz)', fontsize=20)\n",
    "plt.xlim([1, 60])\n",
    "plt.ylim([0, mean_psd.max()/2])\n",
    "plt.title(\"PSD of channel\", fontsize=30)"
   ]
  },
  {
   "cell_type": "code",
   "execution_count": null,
   "metadata": {},
   "outputs": [],
   "source": [
    "# Pass data through butterworth and bandpass filter\n",
    "\n",
    "data_filt = np.zeros((data.shape[0], data.shape[1]))\n",
    "for i in range(data.shape[0]):\n",
    "    data_filt[i,:] = (butter_bandpass_filter(data[i,:].T, low, high, fs).T)"
   ]
  },
  {
   "attachments": {},
   "cell_type": "markdown",
   "metadata": {},
   "source": [
    "Separate data into positive/negative trials "
   ]
  },
  {
   "cell_type": "code",
   "execution_count": 3,
   "metadata": {},
   "outputs": [
    {
     "ename": "NameError",
     "evalue": "name 'np' is not defined",
     "output_type": "error",
     "traceback": [
      "\u001b[0;31m---------------------------------------------------------------------------\u001b[0m",
      "\u001b[0;31mNameError\u001b[0m                                 Traceback (most recent call last)",
      "\u001b[1;32m/Users/seandominique/Desktop/GitHub/EEG_signal_processing.ipynb Cell 20\u001b[0m in \u001b[0;36m<cell line: 1>\u001b[0;34m()\u001b[0m\n\u001b[0;32m----> <a href='vscode-notebook-cell:/Users/seandominique/Desktop/GitHub/EEG_signal_processing.ipynb#X34sZmlsZQ%3D%3D?line=0'>1</a>\u001b[0m correct_trials_filt_all \u001b[39m=\u001b[39m np\u001b[39m.\u001b[39mzeros([\u001b[39m2\u001b[39m,fs])\n\u001b[1;32m      <a href='vscode-notebook-cell:/Users/seandominique/Desktop/GitHub/EEG_signal_processing.ipynb#X34sZmlsZQ%3D%3D?line=1'>2</a>\u001b[0m error_trials_filt_all \u001b[39m=\u001b[39m np\u001b[39m.\u001b[39mzeros([\u001b[39m2\u001b[39m,fs])\n\u001b[1;32m      <a href='vscode-notebook-cell:/Users/seandominique/Desktop/GitHub/EEG_signal_processing.ipynb#X34sZmlsZQ%3D%3D?line=3'>4</a>\u001b[0m \u001b[39m# Identify correct / error trials from `evtype` and slot them into respective arrays\u001b[39;00m\n",
      "\u001b[0;31mNameError\u001b[0m: name 'np' is not defined"
     ]
    }
   ],
   "source": [
    "correct_trials_filt_all = np.zeros([2,fs])\n",
    "error_trials_filt_all = np.zeros([2,fs])\n",
    "\n",
    "# Identify correct / error trials from `evtype` and slot them into respective arrays\n",
    "for i in range(evtype.shape[0]):\n",
    "    \n",
    "    for j in range(evtype.shape[1]):\n",
    "        if evtype[i,j] == 5 or evtype[i,j] == 10:\n",
    "            correct_trials_filt_all = np.append(correct_trials_filt_all, [data_filt[i, int(evpos[i,j]):int(evpos[i,j] + fs)]], axis=0)\n",
    "        elif evtype[i,j] == 6 or evtype[i,j] == 9:\n",
    "            error_trials_filt_all = np.append(error_trials_filt_all, [data_filt[i, int(evpos[i,j]):int(evpos[i,j] + fs)]], axis=0)\n",
    "\n",
    "correct_trials_filt_all = correct_trials_filt_all[2:,:]\n",
    "error_trials_filt_all = error_trials_filt_all[2:,:]\n",
    "\n",
    "# Normalise\n",
    "for i in range(correct_trials_filt_all.shape[0]):\n",
    "  ave = np.average(correct_trials_filt_all[i,:])\n",
    "  correct_trials_filt_all[i,:] = correct_trials_filt_all[i,:] - ave\n",
    "\n",
    "for i in range(error_trials_filt_all.shape[0]):\n",
    "  ave = np.average(error_trials_filt_all[i,:])\n",
    "  error_trials_filt_all[i,:] = error_trials_filt_all[i,:] - ave\n",
    "\n",
    "mean_correct_filt_all = np.mean(correct_trials_filt_all, axis=0)\n",
    "mean_error_filt_all = np.mean(error_trials_filt_all, axis=0)"
   ]
  },
  {
   "attachments": {},
   "cell_type": "markdown",
   "metadata": {},
   "source": [
    "# Plot"
   ]
  },
  {
   "cell_type": "code",
   "execution_count": null,
   "metadata": {},
   "outputs": [],
   "source": [
    "start = 0\n",
    "seconds = 1\n",
    "stop = start + (fs*seconds) \n",
    "t = [((i/fs)*1000) for i in range(start, stop)]\n",
    "\n",
    "plt.figure(figsize=(20,8))\n",
    "plt.title('Mean of ERRP in correct vs. erroneous trials', pad = 30,\n",
    "                                                          fontsize=30,\n",
    "                                                          bbox=dict(facecolor='black', alpha=0.05, edgecolor='black'),\n",
    "                                                          fontfamily='serif',\n",
    "                                                          color='black',\n",
    "                                                          ha='center')\n",
    "plt.plot(t, mean_correct_filt_all, label = \"Absence of ERRP\", \n",
    "                                   lw=2.5,\n",
    "                                   c='#00A36C')\n",
    "plt.plot(t, mean_error_filt_all, label = 'Error-related potential', \n",
    "                                 lw=2.5,\n",
    "                                 c='#FF7F50')\n",
    "\n",
    "plt.axvline(x = 158, ls='--', lw=1.25)\n",
    "plt.axvline(x = 572, ls='--', lw=1.25)\n",
    "\n",
    "plt.legend(borderaxespad = 8)\n",
    "\n",
    "plt.xlim([0, 800])\n",
    "plt.ylim([-10, 10])\n",
    "plt.xlabel(\"Time (ms)\", labelpad=15,\n",
    "                        fontsize=20,\n",
    "                        fontfamily='monospace',\n",
    "                        color='black',\n",
    "                        ha='center')\n",
    "plt.ylabel(\"uV\", labelpad=15,\n",
    "                 fontsize=18,\n",
    "                 fontfamily='monospace',\n",
    "                 color='black',\n",
    "                 rotation=0,\n",
    "                 va='center')"
   ]
  },
  {
   "attachments": {},
   "cell_type": "markdown",
   "metadata": {},
   "source": [
    "# Feature extraction"
   ]
  },
  {
   "cell_type": "code",
   "execution_count": null,
   "metadata": {},
   "outputs": [],
   "source": [
    "from scipy import stats\n",
    "\n",
    "def mean(data):\n",
    "    return np.mean(data)\n",
    "    \n",
    "def std(data):\n",
    "    return np.std(data)\n",
    "\n",
    "def ptp(data):\n",
    "    return np.ptp(data)\n",
    "\n",
    "def var(data):\n",
    "        return np.var(data)\n",
    "\n",
    "def minim(data):\n",
    "      return np.min(data)\n",
    "\n",
    "def maxim(data):\n",
    "      return np.max(data)\n",
    "\n",
    "def argminim(data):\n",
    "      return np.argmin(data)\n",
    "\n",
    "def argmaxim(data):\n",
    "      return np.argmax(data)\n",
    "\n",
    "def mean_square(data):\n",
    "      return np.mean(data**2)\n",
    "\n",
    "def rms(data): #root mean square\n",
    "      return  np.sqrt(np.mean(data**2))  \n",
    "\n",
    "def abs_diffs_signal(data):\n",
    "    return np.sum(np.abs(np.diff(data)))\n",
    "\n",
    "def skewness(data):\n",
    "    return stats.skew(data)\n",
    "\n",
    "def kurtosis(data):\n",
    "    return stats.kurtosis(data)"
   ]
  },
  {
   "cell_type": "code",
   "execution_count": null,
   "metadata": {},
   "outputs": [],
   "source": [
    "def concatenate_features(data):\n",
    "    return np.array(((  mean(data),\n",
    "                        std(data),\n",
    "                        ptp(data),\n",
    "                        var(data),\n",
    "                        minim(data),\n",
    "                        maxim(data),\n",
    "                        argminim(data),\n",
    "                        argmaxim(data),\n",
    "                        mean_square(data),\n",
    "                        rms(data),\n",
    "                        abs_diffs_signal(data),\n",
    "                        skewness(data),\n",
    "                        kurtosis(data))))"
   ]
  },
  {
   "cell_type": "code",
   "execution_count": null,
   "metadata": {},
   "outputs": [],
   "source": [
    "features_correct = np.zeros([correct_trials_filt_all.shape[0],13])\n",
    "for i in range(correct_trials_filt_all.shape[0]):\n",
    "    features_correct[i,:] = concatenate_features(correct_trials_filt_all[i,:])\n",
    "\n",
    "features_error = np.zeros([error_trials_filt_all.shape[0],13])\n",
    "for i in range(error_trials_filt_all.shape[0]):\n",
    "    features_error[i,:] = concatenate_features(error_trials_filt_all[i,:])"
   ]
  },
  {
   "attachments": {},
   "cell_type": "markdown",
   "metadata": {},
   "source": [
    "# Machine learning"
   ]
  },
  {
   "cell_type": "code",
   "execution_count": 4,
   "metadata": {},
   "outputs": [
    {
     "ename": "NameError",
     "evalue": "name 'np' is not defined",
     "output_type": "error",
     "traceback": [
      "\u001b[0;31m---------------------------------------------------------------------------\u001b[0m",
      "\u001b[0;31mNameError\u001b[0m                                 Traceback (most recent call last)",
      "\u001b[1;32m/Users/seandominique/Desktop/GitHub/EEG_signal_processing.ipynb Cell 28\u001b[0m in \u001b[0;36m<cell line: 4>\u001b[0;34m()\u001b[0m\n\u001b[1;32m      <a href='vscode-notebook-cell:/Users/seandominique/Desktop/GitHub/EEG_signal_processing.ipynb#X53sZmlsZQ%3D%3D?line=0'>1</a>\u001b[0m \u001b[39m# Split data into features `x` and labels `y`\u001b[39;00m\n\u001b[1;32m      <a href='vscode-notebook-cell:/Users/seandominique/Desktop/GitHub/EEG_signal_processing.ipynb#X53sZmlsZQ%3D%3D?line=1'>2</a>\u001b[0m \n\u001b[1;32m      <a href='vscode-notebook-cell:/Users/seandominique/Desktop/GitHub/EEG_signal_processing.ipynb#X53sZmlsZQ%3D%3D?line=2'>3</a>\u001b[0m \u001b[39m# Create arrays for filtered data (0 = correct, 1 = error) \u001b[39;00m\n\u001b[0;32m----> <a href='vscode-notebook-cell:/Users/seandominique/Desktop/GitHub/EEG_signal_processing.ipynb#X53sZmlsZQ%3D%3D?line=3'>4</a>\u001b[0m a \u001b[39m=\u001b[39m np\u001b[39m.\u001b[39mzeros((correct_trials_filt_all\u001b[39m.\u001b[39mshape[\u001b[39m0\u001b[39m],correct_trials_filt_all\u001b[39m.\u001b[39mshape[\u001b[39m1\u001b[39m]\u001b[39m+\u001b[39m\u001b[39m1\u001b[39m))\n\u001b[1;32m      <a href='vscode-notebook-cell:/Users/seandominique/Desktop/GitHub/EEG_signal_processing.ipynb#X53sZmlsZQ%3D%3D?line=4'>5</a>\u001b[0m b \u001b[39m=\u001b[39m np\u001b[39m.\u001b[39mones((error_trials_filt_all\u001b[39m.\u001b[39mshape[\u001b[39m0\u001b[39m],error_trials_filt_all\u001b[39m.\u001b[39mshape[\u001b[39m1\u001b[39m]\u001b[39m+\u001b[39m\u001b[39m1\u001b[39m))\n\u001b[1;32m      <a href='vscode-notebook-cell:/Users/seandominique/Desktop/GitHub/EEG_signal_processing.ipynb#X53sZmlsZQ%3D%3D?line=6'>7</a>\u001b[0m \u001b[39m# Fill arrays except for last column\u001b[39;00m\n",
      "\u001b[0;31mNameError\u001b[0m: name 'np' is not defined"
     ]
    }
   ],
   "source": [
    "# Split data into features `x` and labels `y`\n",
    "\n",
    "# Create arrays for filtered data (0 = correct, 1 = error) \n",
    "a = np.zeros((correct_trials_filt_all.shape[0],correct_trials_filt_all.shape[1]+1))\n",
    "b = np.ones((error_trials_filt_all.shape[0],error_trials_filt_all.shape[1]+1))\n",
    "\n",
    "# Fill arrays except for last column (to record labels)\n",
    "a[:,0:-1] = correct_trials_filt_all\n",
    "b[:,0:-1] = error_trials_filt_all\n",
    "\n",
    "# Shuffle data for training sets\n",
    "x_and_y = np.concatenate((a[:b.shape[0]], b), axis=0)\n",
    "np.random.shuffle(X_and_y)\n",
    "\n",
    "# create feature (`x`) and label (`y`) arrays\n",
    "y = x_and_y[:,-1]\n",
    "x = x_and_y[:,0:-1]\n",
    "\n",
    "# create training sets\n",
    "from sklearn.model_selection import train_test_split\n",
    "X_train, X_test, y_train, y_test = train_test_split(x,\n",
    "                                                    y, \n",
    "                                                    test_size=0.2,\n",
    "                                                    shuffle=False) # Don't mix up our shit"
   ]
  },
  {
   "cell_type": "code",
   "execution_count": 5,
   "metadata": {},
   "outputs": [
    {
     "ename": "NameError",
     "evalue": "name 'X_train' is not defined",
     "output_type": "error",
     "traceback": [
      "\u001b[0;31m---------------------------------------------------------------------------\u001b[0m",
      "\u001b[0;31mNameError\u001b[0m                                 Traceback (most recent call last)",
      "\u001b[1;32m/Users/seandominique/Desktop/GitHub/EEG_signal_processing.ipynb Cell 29\u001b[0m in \u001b[0;36m<cell line: 3>\u001b[0;34m()\u001b[0m\n\u001b[1;32m      <a href='vscode-notebook-cell:/Users/seandominique/Desktop/GitHub/EEG_signal_processing.ipynb#X56sZmlsZQ%3D%3D?line=0'>1</a>\u001b[0m \u001b[39mfrom\u001b[39;00m \u001b[39msklearn\u001b[39;00m\u001b[39m.\u001b[39;00m\u001b[39msvm\u001b[39;00m \u001b[39mimport\u001b[39;00m SVC\n\u001b[1;32m      <a href='vscode-notebook-cell:/Users/seandominique/Desktop/GitHub/EEG_signal_processing.ipynb#X56sZmlsZQ%3D%3D?line=1'>2</a>\u001b[0m model \u001b[39m=\u001b[39m SVC(kernel\u001b[39m=\u001b[39m\u001b[39m'\u001b[39m\u001b[39mrbf\u001b[39m\u001b[39m'\u001b[39m)\n\u001b[0;32m----> <a href='vscode-notebook-cell:/Users/seandominique/Desktop/GitHub/EEG_signal_processing.ipynb#X56sZmlsZQ%3D%3D?line=2'>3</a>\u001b[0m model\u001b[39m.\u001b[39mfit(X_train, y_train)\n\u001b[1;32m      <a href='vscode-notebook-cell:/Users/seandominique/Desktop/GitHub/EEG_signal_processing.ipynb#X56sZmlsZQ%3D%3D?line=3'>4</a>\u001b[0m \u001b[39mprint\u001b[39m(\u001b[39m\"\u001b[39m\u001b[39mAccuracy: \u001b[39m\u001b[39m\"\u001b[39m, model\u001b[39m.\u001b[39mscore(X_test, y_test))\n",
      "\u001b[0;31mNameError\u001b[0m: name 'X_train' is not defined"
     ]
    }
   ],
   "source": [
    "# Create model and test training data\n",
    "\n",
    "from sklearn.svm import SVC\n",
    "model = SVC(kernel='rbf')\n",
    "model.fit(X_train, y_train)\n",
    "print(\"Accuracy: \", model.score(X_test, y_test))"
   ]
  }
 ],
 "metadata": {
  "kernelspec": {
   "display_name": "base",
   "language": "python",
   "name": "python3"
  },
  "language_info": {
   "codemirror_mode": {
    "name": "ipython",
    "version": 3
   },
   "file_extension": ".py",
   "mimetype": "text/x-python",
   "name": "python",
   "nbconvert_exporter": "python",
   "pygments_lexer": "ipython3",
   "version": "3.9.12 (main, Apr  5 2022, 01:53:17) \n[Clang 12.0.0 ]"
  },
  "orig_nbformat": 4,
  "vscode": {
   "interpreter": {
    "hash": "9c32f91040f06ccb7c8960a79b85684cc12679ef95ebbc4bb4f1452fa9caebf7"
   }
  }
 },
 "nbformat": 4,
 "nbformat_minor": 2
}
